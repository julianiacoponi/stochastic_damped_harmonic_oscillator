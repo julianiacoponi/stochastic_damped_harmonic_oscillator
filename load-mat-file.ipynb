{
 "cells": [
  {
   "cell_type": "code",
   "execution_count": 1,
   "id": "012d2e81-04b3-44be-ba17-88e6623055b6",
   "metadata": {},
   "outputs": [],
   "source": [
    "import scipy.io\n",
    "import numpy as np\n",
    "import matplotlib.pyplot as plt\n",
    "\n",
    "from scipy.fft import fft, fftfreq\n",
    "from pprint import pprint"
   ]
  },
  {
   "cell_type": "code",
   "execution_count": 7,
   "id": "3f379231-94e9-4f0c-a905-83df6ec47462",
   "metadata": {},
   "outputs": [
    {
     "name": "stdout",
     "output_type": "stream",
     "text": [
      "{'A': array([[-0.09060945],\n",
      "       [-0.0773339 ],\n",
      "       [-0.0613422 ],\n",
      "       ...,\n",
      "       [-0.02154607],\n",
      "       [-0.02417066],\n",
      "       [-0.017304  ]], dtype=float32),\n",
      " 'B': array([[-0.15475936],\n",
      "       [-0.11221656],\n",
      "       [-0.07861568],\n",
      "       ...,\n",
      "       [ 0.24491104],\n",
      "       [ 0.21304971],\n",
      "       [ 0.18036439]], dtype=float32),\n",
      " 'ExtraSamples': array([[0]], dtype=int32),\n",
      " 'Length': array([[50000000]], dtype=int32),\n",
      " 'RequestedLength': array([[50000000]], dtype=int32),\n",
      " 'Tinterval': array([[2.00000002e-07]]),\n",
      " 'Tstart': array([[-5.00000048]]),\n",
      " 'Version': array(['6', '.', '1', '4', '.', '6', '8', '.', '6', '3', '5', '6'],\n",
      "      dtype='<U1')}\n"
     ]
    }
   ],
   "source": [
    "mbar037gain4_1 = scipy.io.loadmat('/Users/julian/Documents/MATLAB/2023-02-22 - particle trapped/Realignment (new)/Low pressures (with different gains)/pressure_0_37mbar/Gain4(1).mat')\n",
    "pprint(mbar037gain4_1)"
   ]
  },
  {
   "cell_type": "code",
   "execution_count": 6,
   "id": "740c0be8-108f-4dae-b8c8-0383f970ad26",
   "metadata": {},
   "outputs": [
    {
     "name": "stdout",
     "output_type": "stream",
     "text": [
      "{'A': array([[ 0.01141392],\n",
      "       [ 0.00711081],\n",
      "       [ 0.00256355],\n",
      "       ...,\n",
      "       [-0.02978607],\n",
      "       [-0.014008  ],\n",
      "       [-0.01968444]], dtype=float32),\n",
      " 'B': array([[-0.11181982],\n",
      "       [-0.10528886],\n",
      "       [-0.0995819 ],\n",
      "       ...,\n",
      "       [ 0.00128178],\n",
      "       [ 0.04226813],\n",
      "       [ 0.03286843]], dtype=float32),\n",
      " 'ExtraSamples': array([[0]], dtype=int32),\n",
      " 'Length': array([[50000000]], dtype=int32),\n",
      " 'RequestedLength': array([[50000000]], dtype=int32),\n",
      " 'Tinterval': array([[2.00000002e-07]]),\n",
      " 'Tstart': array([[-5.00000048]]),\n",
      " 'Version': array(['6', '.', '1', '4', '.', '6', '8', '.', '6', '3', '5', '6'],\n",
      "      dtype='<U1')}\n"
     ]
    }
   ],
   "source": [
    "mbar1_9em2gain4_1 = scipy.io.loadmat('/Users/julian/Documents/MATLAB/2023-02-22 - particle trapped/Realignment (new)/Low pressures (with different gains)/pressure_1_9x10m2mbar/Gain4(1).mat')\n",
    "pprint(mbar1_9em2gain4_1)"
   ]
  },
  {
   "cell_type": "code",
   "execution_count": null,
   "id": "d750767a-3d96-426d-9b46-b4d8cfbcc632",
   "metadata": {},
   "outputs": [],
   "source": []
  }
 ],
 "metadata": {
  "kernelspec": {
   "display_name": "Python 3 (ipykernel)",
   "language": "python",
   "name": "python3"
  },
  "language_info": {
   "codemirror_mode": {
    "name": "ipython",
    "version": 3
   },
   "file_extension": ".py",
   "mimetype": "text/x-python",
   "name": "python",
   "nbconvert_exporter": "python",
   "pygments_lexer": "ipython3",
   "version": "3.9.16"
  }
 },
 "nbformat": 4,
 "nbformat_minor": 5
}
