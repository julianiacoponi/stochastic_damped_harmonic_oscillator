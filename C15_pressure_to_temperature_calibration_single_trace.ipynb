{
 "cells": [
  {
   "cell_type": "code",
   "execution_count": null,
   "id": "4f40378f-bbbd-4cfe-bd81-f211a260bf7d",
   "metadata": {},
   "outputs": [],
   "source": [
    "import scipy.io\n",
    "import numpy as np\n",
    "import matplotlib.pyplot as plt\n",
    "\n",
    "from scipy.fft import fft, fftfreq\n",
    "from pprint import pprint"
   ]
  },
  {
   "cell_type": "code",
   "execution_count": null,
   "id": "0902c362-f5ec-4357-a7cc-2bd265315c77",
   "metadata": {},
   "outputs": [],
   "source": [
    "one_mbar_1 = scipy.io.loadmat('/Users/julian/Documents/MATLAB/1mbar/1mbar(1).mat')\n",
    "pprint(one_mbar_1)"
   ]
  },
  {
   "cell_type": "code",
   "execution_count": null,
   "id": "d0730784-b75a-4d33-b6ab-6eeab461db4d",
   "metadata": {},
   "outputs": [],
   "source": [
    "start_time = one_mbar_1['Tstart'][0, 0]\n",
    "num_samples = one_mbar_1['Length'][0, 0]\n",
    "sample_interval = one_mbar_1['Tinterval'][0, 0]\n",
    "\n",
    "print(\n",
    "    f'\\n{start_time=}'\n",
    "    f'\\n{num_samples=}'\n",
    "    f'\\n{sample_interval=}'\n",
    ")\n",
    "\n",
    "time_domain = np.linspace(\n",
    "    start_time,\n",
    "    start_time + sample_interval * num_samples,\n",
    "    num_samples,\n",
    "    endpoint=False\n",
    ")\n",
    "\n",
    "# using convention that x is the lower frequency, y is the higher\n",
    "x_signal = one_mbar_1['B']\n",
    "y_signal = one_mbar_1['A']\n",
    "\n",
    "pprint(x_signal)\n",
    "pprint(y_signal)"
   ]
  },
  {
   "cell_type": "code",
   "execution_count": null,
   "id": "75045085-4335-47b0-abde-19c2bbf6c36f",
   "metadata": {},
   "outputs": [],
   "source": [
    "plt.plot(time_domain, x_signal)\n",
    "plt.plot(time_domain, y_signal)\n",
    "plt.grid()\n",
    "plt.show()"
   ]
  },
  {
   "cell_type": "code",
   "execution_count": null,
   "id": "0fa7aa71-27d6-4c2f-943b-4c7c86518db7",
   "metadata": {},
   "outputs": [],
   "source": [
    "# % only worry about positive frequency domains\n",
    "frequency_domain = fftfreq(num_samples, sample_interval)[:num_samples//2]\n",
    "x_fft = fft(x_signal)\n",
    "y_fft = fft(y_signal)\n",
    "\n",
    "pprint(x_fft)\n",
    "pprint(y_fft)\n",
    "\n",
    "plt.plot(np.abs(x_fft))"
   ]
  },
  {
   "cell_type": "code",
   "execution_count": null,
   "id": "1e1080c6-31b4-4568-a027-53c3c08cf5c1",
   "metadata": {},
   "outputs": [],
   "source": [
    "plt.plot(\n",
    "    frequency_domain,\n",
    "    2./num_samples * np.abs(x_fft[:num_samples//2])\n",
    ")"
   ]
  }
 ],
 "metadata": {
  "kernelspec": {
   "display_name": "Python 3 (ipykernel)",
   "language": "python",
   "name": "python3"
  },
  "language_info": {
   "codemirror_mode": {
    "name": "ipython",
    "version": 3
   },
   "file_extension": ".py",
   "mimetype": "text/x-python",
   "name": "python",
   "nbconvert_exporter": "python",
   "pygments_lexer": "ipython3",
   "version": "3.9.16"
  }
 },
 "nbformat": 4,
 "nbformat_minor": 5
}
